{
  "nbformat": 4,
  "nbformat_minor": 0,
  "metadata": {
    "colab": {
      "name": "IA_Actividad2_SebastianSolis_1816855.ipynb",
      "provenance": [],
      "collapsed_sections": [],
      "authorship_tag": "ABX9TyNpN7okGfOr8C5L/IzF1njs",
      "include_colab_link": true
    },
    "kernelspec": {
      "name": "python3",
      "display_name": "Python 3"
    },
    "language_info": {
      "name": "python"
    }
  },
  "cells": [
    {
      "cell_type": "markdown",
      "metadata": {
        "id": "view-in-github",
        "colab_type": "text"
      },
      "source": [
        "<a href=\"https://colab.research.google.com/github/MrSolis2021/IA_Actividad2_SebastianSolis_1816855/blob/main/IA_Actividad2_SebastianSolis_1816855.ipynb\" target=\"_parent\"><img src=\"https://colab.research.google.com/assets/colab-badge.svg\" alt=\"Open In Colab\"/></a>"
      ]
    },
    {
      "cell_type": "markdown",
      "metadata": {
        "id": "3RPPmIAi47XZ"
      },
      "source": [
        "Actividad 2. Ejercicios Introduccion Python. Sebastian Alejandro Solis Quiroz. 1816855.\n",
        "N4"
      ]
    },
    {
      "cell_type": "code",
      "metadata": {
        "colab": {
          "base_uri": "https://localhost:8080/"
        },
        "id": "13eGIkTZ436W",
        "outputId": "fe17a49e-c2b4-41f0-c92b-0659834e5d57"
      },
      "source": [
        "\"Ejercicio 1\"\n",
        "\n",
        "\"Instrucciones: Crear un programa que pregunte al usuario por\" \\\n",
        "\"su nombre, edad, una frase favorita y autor de la frase favorita.\" \\\n",
        "\n",
        "nombre_usuario = input(\"¿Cuál es tu nombre? \")\n",
        "edad_usuario = input(\"¿Cuál es tu edad? \")\n",
        "frase_usuario = input(\"¿Menciona tu frase famosa favorita? \")\n",
        "autor_frase = input(\"¿Quién es el autor de tu frase favorita? \")\n",
        "\n",
        "print(\"Hola \" + nombre_usuario + \", tienes \" + edad_usuario + \" años de edad y tu frase favorita mencionada es \" + frase_usuario + \" del autor \" + autor_frase + \".\")"
      ],
      "execution_count": 1,
      "outputs": [
        {
          "output_type": "stream",
          "name": "stdout",
          "text": [
            "¿Cuál es tu nombre? Sebastian\n",
            "¿Cuál es tu edad? 21\n",
            "¿Menciona tu frase famosa favorita? Yeh Yeh Yeh\n",
            "¿Quién es el autor de tu frase favorita? Bad Bunny\n",
            "Hola Sebastian, tienes 21 años de edad y tu frase favorita mencionada es Yeh Yeh Yeh del autor Bad Bunny.\n"
          ]
        }
      ]
    },
    {
      "cell_type": "code",
      "metadata": {
        "colab": {
          "base_uri": "https://localhost:8080/"
        },
        "id": "XcU_pS3t5c7p",
        "outputId": "c025f0f2-2461-4071-e857-27c1c02c7554"
      },
      "source": [
        "\"Ejercicio 2\"\n",
        "\n",
        "\"Instrucciones: Crear un programa que le pida al usuario capturar dos numeros enteros y dos\" \\\n",
        "\"numeros flotantes. Despues, realizara la suma, resta, multiplicacion y division de ambos pares\" \\\n",
        "\"de numero. Como resultado se deberan obtener 8 valores.\"\n",
        "\n",
        "print(\"A continuacion deberas capturar dos numeros enteros.\")\n",
        "num_ent1 = int(input(\"Captura un numero entero: \"))\n",
        "num_ent2 = int(input(\"Captura otro numero entero: \"))\n",
        "\n",
        "print(\"Ahora deberas capturar dos numeros flotantes.\\nRecuerda que los numeros flotantes son \"\n",
        "      \"aquellos que cuentan con parte decimal.\")\n",
        "num_f1 = float(input(\"Ingresa un numero flotante: \"))\n",
        "num_f2 = float(input(\"Ingresa un segundo numero flotante: \"))\n",
        "\n",
        "print(\"Suma, resta, multiplicacion y division de numeros enteros, respectivamente: \")\n",
        "\n",
        "print(num_ent1 + num_ent2)\n",
        "print(num_ent1 - num_ent2)\n",
        "print(num_ent1 * num_ent2)\n",
        "print(num_ent1 / num_ent2)\n",
        "\n",
        "print(\"Suma, resta, multiplicacion y division de numeros flotantes, respectivamente: \")\n",
        "print(num_f1 + num_f2)\n",
        "print(num_f1 - num_f2)\n",
        "print(num_f1 * num_f2)\n",
        "print(num_f1 / num_f2)"
      ],
      "execution_count": 2,
      "outputs": [
        {
          "output_type": "stream",
          "name": "stdout",
          "text": [
            "A continuacion deberas capturar dos numeros enteros.\n",
            "Captura un numero entero: 3\n",
            "Captura otro numero entero: 5\n",
            "Ahora deberas capturar dos numeros flotantes.\n",
            "Recuerda que los numeros flotantes son aquellos que cuentan con parte decimal.\n",
            "Ingresa un numero flotante: 1.2\n",
            "Ingresa un segundo numero flotante: 4.2\n",
            "Suma, resta, multiplicacion y division de numeros enteros, respectivamente: \n",
            "8\n",
            "-2\n",
            "15\n",
            "0.6\n",
            "Suma, resta, multiplicacion y division de numeros flotantes, respectivamente: \n",
            "5.4\n",
            "-3.0\n",
            "5.04\n",
            "0.2857142857142857\n"
          ]
        }
      ]
    },
    {
      "cell_type": "code",
      "metadata": {
        "colab": {
          "base_uri": "https://localhost:8080/"
        },
        "id": "v8jq2aaE5s8A",
        "outputId": "e167bdeb-d5dd-4b33-c5fb-f92ad7335476"
      },
      "source": [
        "\"Ejercicio 3\"\n",
        "\n",
        "\"Instrucciones: Crear un programa que evalue dos expresiones logicas con 'and', dos con 'or' y dos con 'not'.\" \\\n",
        "\"Cada expresion debera hacer uso de operaciones de comparacion.\"\n",
        "\n",
        "print(1 < 10 and 5 > 10)\n",
        "print(1 == 1 and 5 < 10)\n",
        "\n",
        "print(3 < 10 or 1 > 2)\n",
        "print(3 < 7 or 10 <= 10)\n",
        "\n",
        "print(not(3 < 10 and 5 > 1))\n",
        "print(not(5 == 2 and 2 > 10))"
      ],
      "execution_count": 3,
      "outputs": [
        {
          "output_type": "stream",
          "name": "stdout",
          "text": [
            "False\n",
            "True\n",
            "True\n",
            "True\n",
            "False\n",
            "True\n"
          ]
        }
      ]
    }
  ]
}
