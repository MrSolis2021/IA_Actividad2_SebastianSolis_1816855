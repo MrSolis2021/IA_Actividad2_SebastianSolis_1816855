{
  "nbformat": 4,
  "nbformat_minor": 0,
  "metadata": {
    "colab": {
      "name": "IA_Actividad3_SebastianSolis_1816855.ipynb",
      "provenance": [],
      "collapsed_sections": [],
      "authorship_tag": "ABX9TyPNn6FMvUVikkuQYq9NEKep",
      "include_colab_link": true
    },
    "kernelspec": {
      "name": "python3",
      "display_name": "Python 3"
    },
    "language_info": {
      "name": "python"
    }
  },
  "cells": [
    {
      "cell_type": "markdown",
      "metadata": {
        "id": "view-in-github",
        "colab_type": "text"
      },
      "source": [
        "<a href=\"https://colab.research.google.com/github/MrSolis2021/IA_Repositorio_SebastianSolis_1816855/blob/main/IA_Actividad3_SebastianSolis_1816855.ipynb\" target=\"_parent\"><img src=\"https://colab.research.google.com/assets/colab-badge.svg\" alt=\"Open In Colab\"/></a>"
      ]
    },
    {
      "cell_type": "markdown",
      "metadata": {
        "id": "FeHSALOgX5M-"
      },
      "source": [
        "### Actividad 3. Ejercicios Introducción Python, 2da parte.\n",
        "\n",
        "Sebastián Alejandro Solís Quiroz. 1816855. Jueves N4."
      ]
    },
    {
      "cell_type": "code",
      "metadata": {
        "id": "hXqkbLx5X23a",
        "colab": {
          "base_uri": "https://localhost:8080/"
        },
        "outputId": "b3740545-e25b-4b14-ab54-39ebbdd13e8b"
      },
      "source": [
        "\"Ejercicio 1\"\n",
        "\n",
        "\"1.1 Piensa en 7 comidas diferentes que te gusten. Implementa un programa que pregunte por las 7 comidas,\" \\\n",
        "\"las almacene en una lista y que posteriormente imprima cada una de ellas utilizando uno de los ciclos comentados\" \\\n",
        "\"en clase.\"\n",
        "\n",
        "user_name = input(\"Hola usuario, ¿cuál es tu nombre? \")\n",
        "print(\"Hola \" + user_name + \", ¿cuáles son tus 7 comidas preferidas en el mundo?\")\n",
        "comida0 = input(\"1. = \")\n",
        "comida1 = input(\"2. = \")\n",
        "comida2 = input(\"3. = \")\n",
        "comida3 = input(\"4. = \")\n",
        "comida4 = input(\"5. = \")\n",
        "comida5 = input(\"6. = \")\n",
        "comida6 = input(\"7. = \")\n",
        "\n",
        "Lista_comida = [comida0, comida1, comida2, comida3, comida4, comida5, comida6]\n",
        "print(user_name + \", tus comidas preferidas son: \")\n",
        "for x in Lista_comida:\n",
        "    print(x)"
      ],
      "execution_count": 1,
      "outputs": [
        {
          "output_type": "stream",
          "name": "stdout",
          "text": [
            "Hola usuario, ¿cuál es tu nombre? Sebastian\n",
            "Hola Sebastian, ¿cuáles son tus 7 comidas preferidas en el mundo?\n",
            "1. = Milanesa de pollo empanizada\n",
            "2. = Spaguetti verde\n",
            "3. = Arroz\n",
            "4. = Pollo FKC\n",
            "5. = Atun\n",
            "6. = Jamon\n",
            "7. = Pepino con chile\n",
            "Sebastian, tus comidas preferidas son: \n",
            "Milanesa de pollo empanizada\n",
            "Spaguetti verde\n",
            "Arroz\n",
            "Pollo FKC\n",
            "Atun\n",
            "Jamon\n",
            "Pepino con chile\n"
          ]
        }
      ]
    },
    {
      "cell_type": "code",
      "metadata": {
        "colab": {
          "base_uri": "https://localhost:8080/"
        },
        "id": "8rW7EB98MVgH",
        "outputId": "1a0d31ba-279c-41c4-897e-656d80f88dd8"
      },
      "source": [
        "\"Ejercicio 1.2\"\n",
        "\n",
        "\"Ejercicio 1.2. Modifica el ejercicio 1.1 para que imprima cada una de las comidas favoritas junto\" \\\n",
        "\"con una oración inicial: Una de mis comidas favoritas es [comida1].\"\n",
        "\n",
        "user_name = input(\"Hola usuario, ¿cuál es tu nombre? \")\n",
        "print(\"Hola \" + user_name + \", ¿cuáles son tus 7 comidas preferidas en el mundo?\")\n",
        "comida0 = input(\" \")\n",
        "comida1 = input(\" \")\n",
        "comida2 = input(\" \")\n",
        "comida3 = input(\" \")\n",
        "comida4 = input(\" \")\n",
        "comida5 = input(\" \")\n",
        "comida6 = input(\" \")\n",
        "\n",
        "Lista_comida = [comida0, comida1, comida2, comida3, comida4, comida5, comida6]\n",
        "mensaje = [\"Una de mis comidas favoritas es:\"]\n",
        "\n",
        "# Uso de for anidado\n",
        "for x in mensaje:\n",
        "    for y in Lista_comida:\n",
        "        print(x, y)"
      ],
      "execution_count": 2,
      "outputs": [
        {
          "output_type": "stream",
          "name": "stdout",
          "text": [
            "Hola usuario, ¿cuál es tu nombre? Sebastian\n",
            "Hola Sebastian, ¿cuáles son tus 7 comidas preferidas en el mundo?\n",
            " Milanesa de pollo empanizada\n",
            " Spaguetti verde\n",
            " Arroz\n",
            " Pollo KFC\n",
            " Atun\n",
            " Jamon\n",
            " Pepino con chile\n",
            "Una de mis comidas favoritas es: Milanesa de pollo empanizada\n",
            "Una de mis comidas favoritas es: Spaguetti verde\n",
            "Una de mis comidas favoritas es: Arroz\n",
            "Una de mis comidas favoritas es: Pollo KFC\n",
            "Una de mis comidas favoritas es: Atun\n",
            "Una de mis comidas favoritas es: Jamon\n",
            "Una de mis comidas favoritas es: Pepino con chile\n"
          ]
        }
      ]
    },
    {
      "cell_type": "code",
      "metadata": {
        "colab": {
          "base_uri": "https://localhost:8080/"
        },
        "id": "MoH5vNDdMobo",
        "outputId": "f843f1bf-78de-44ab-bc56-be1d91dd0805"
      },
      "source": [
        "\"Ejercicio 2\"\n",
        "\n",
        "\"Crear un juego de piedra, papel o tijera de dos jugadores. El programa preguntará por la opción\" \\\n",
        "\"del jugador 1 y la opción del jugador 2 y dará como resultado quien ganó el juego.\"\n",
        "\n",
        "print(\"Bienvenidos al juego de piedra, papel o tijera...\")\n",
        "print(\"Cada jugador debera escoger una de las tres opciones validas, ya sea PIEDRA, PAPEL o TIJERA.\")\n",
        "\n",
        "Jugador_1 = input(\"Jugador 1, ingresa la opcion que deseas escoger: \")\n",
        "Jugador_1 = Jugador_1.upper()\n",
        "\n",
        "Jugador_2 = input(\"Jugador 2, ingresa la opcion que deseas escoger: \")\n",
        "Jugador_2 = Jugador_2.upper()\n",
        "\n",
        "# Condiciones para que gane el jugador 1\n",
        "if (Jugador_1 == \"PIEDRA\" and Jugador_2 == \"TIJERA\") or \\\n",
        "    (Jugador_1 == \"TIJERA\" and Jugador_2 == \"PAPEL\") or \\\n",
        "    (Jugador_1 == \"PAPEL\" and Jugador_2 == \"PIEDRA\"):\n",
        "    print(\"El ganador es el Jugador 1\")\n",
        "\n",
        "# Condiciones para que gane el jugador 2\n",
        "elif (Jugador_2 == \"PIEDRA\" and Jugador_1 == \"TIJERA\") or \\\n",
        "        (Jugador_2 == \"TIJERA\" and Jugador_1 == \"PAPEL\") or \\\n",
        "        (Jugador_2 == \"PAPEL\" and Jugador_1 == \"PIEDRA\"):\n",
        "    print(\"El ganador es el jugador 2\")\n",
        "\n",
        "elif (Jugador_2 == \"PIEDRA\" and Jugador_1 == \"PIEDRA\") or \\\n",
        "        (Jugador_2 == \"PAPEL\" and Jugador_1 == \"PAPEL\") or \\\n",
        "        (Jugador_2 == \"TIJERA\" and Jugador_1 == \"TIJERA\"):\n",
        "    print(\"Es empate\")\n",
        "\n",
        "else:\n",
        "    print(\"Se introdujo una opcion no valida, intente de nuevo.\")"
      ],
      "execution_count": 3,
      "outputs": [
        {
          "output_type": "stream",
          "name": "stdout",
          "text": [
            "Bienvenidos al juego de piedra, papel o tijera...\n",
            "Cada jugador debera escoger una de las tres opciones validas, ya sea PIEDRA, PAPEL o TIJERA.\n",
            "Jugador 1, ingresa la opcion que deseas escoger: papel\n",
            "Jugador 2, ingresa la opcion que deseas escoger: amarillo\n",
            "Se introdujo una opcion no valida, intente de nuevo.\n"
          ]
        }
      ]
    },
    {
      "cell_type": "code",
      "metadata": {
        "colab": {
          "base_uri": "https://localhost:8080/"
        },
        "id": "7CWIg6XFMxDN",
        "outputId": "958d55e8-49d5-4466-8f04-af5a6d0f59bf"
      },
      "source": [
        "\"Ejercicio 3\"\n",
        "\n",
        "\"Implementar un programa que imprime el siguiente patron:\" \\\n",
        "\"1 2 3 4 5 6\" \\\n",
        "\"1 2 3 4 5\" \\\n",
        "\"1 2 3 4\" \\\n",
        "\"1 2 3\" \\\n",
        "\"1 2\" \\\n",
        "\"1\" \\\n",
        "\"1 2\" \\\n",
        "\"1 2 3\" \\\n",
        "\"1 2 3 4\" \\\n",
        "\"1 2 3 4 5\" \\\n",
        "\"1 2 3 4 5 6\"\n",
        "\n",
        "Lista = [1, 2, 3, 4, 5, 6]\n",
        "\n",
        "print(Lista)\n",
        "print(Lista[:5])\n",
        "print(Lista[:4])\n",
        "print(Lista[:3])\n",
        "print(Lista[:2])\n",
        "print(Lista[0])\n",
        "print(Lista[:2])\n",
        "print(Lista[:3])\n",
        "print(Lista[:4])\n",
        "print(Lista[:5])\n",
        "print(Lista)"
      ],
      "execution_count": 4,
      "outputs": [
        {
          "output_type": "stream",
          "name": "stdout",
          "text": [
            "[1, 2, 3, 4, 5, 6]\n",
            "[1, 2, 3, 4, 5]\n",
            "[1, 2, 3, 4]\n",
            "[1, 2, 3]\n",
            "[1, 2]\n",
            "1\n",
            "[1, 2]\n",
            "[1, 2, 3]\n",
            "[1, 2, 3, 4]\n",
            "[1, 2, 3, 4, 5]\n",
            "[1, 2, 3, 4, 5, 6]\n"
          ]
        }
      ]
    }
  ]
}
