{
  "nbformat": 4,
  "nbformat_minor": 0,
  "metadata": {
    "colab": {
      "name": "IA_MedioCurso_SolisQuiroz_1816855.ipynb",
      "provenance": [],
      "collapsed_sections": [],
      "authorship_tag": "ABX9TyPghq41kZXKzY0Nu4gI1i0i",
      "include_colab_link": true
    },
    "kernelspec": {
      "name": "python3",
      "display_name": "Python 3"
    },
    "language_info": {
      "name": "python"
    }
  },
  "cells": [
    {
      "cell_type": "markdown",
      "metadata": {
        "id": "view-in-github",
        "colab_type": "text"
      },
      "source": [
        "<a href=\"https://colab.research.google.com/github/MrSolis2021/IA_Repositorio_SebastianSolis_1816855/blob/main/IA_MedioCurso_SolisQuiroz_1816855.ipynb\" target=\"_parent\"><img src=\"https://colab.research.google.com/assets/colab-badge.svg\" alt=\"Open In Colab\"/></a>"
      ]
    },
    {
      "cell_type": "markdown",
      "metadata": {
        "id": "Z8L5qpxgcWrt"
      },
      "source": [
        "# Examen de Medio Curso. Ejercicios de Programacion.\n",
        "Sebastian Alejandro Solis Quiroz. 1816855."
      ]
    },
    {
      "cell_type": "markdown",
      "metadata": {
        "id": "Y2_dJYa3ckxu"
      },
      "source": [
        "##Ejercicio #1"
      ]
    },
    {
      "cell_type": "code",
      "metadata": {
        "id": "KwH89g9r7GjL",
        "colab": {
          "base_uri": "https://localhost:8080/"
        },
        "outputId": "94460e87-6631-4a77-ad75-e74b9130ee55"
      },
      "source": [
        "\"Examen medio curso. Ejercicio 1 de programación.\"\n",
        "\n",
        "\"Desarrollar un programa que:\" \\\n",
        "\"- Remueva los números pares de la lista:\" \\\n",
        "\"  ex_lista = [10, 15, 17, 21, 22, 34, 37, 40, 45, 52, 66, 68, 81, 84, 91, 94, 102, 105, 109]\" \\\n",
        "\"- imprima la lista después de remover los números pares.\"\n",
        "\n",
        "print(\"Buenas tardes usuario, a continuación tenemos una lista donde removeremos los números pares: \")\n",
        "\n",
        "print(\"[10, 15, 17, 21, 22, 34, 37, 40, 45, 52, 66, 68, 81, 84, 91, 94, 102, 105, 109].\")\n",
        "\n",
        "ex_lista = [10, 15, 17, 21, 22, 34, 37, 40, 45, 52, 66, 68, 81, 84, 91, 94, 102, 105, 109]\n",
        "Lista = [x for x in ex_lista if x % 2]\n",
        "\n",
        "print(\"Esta es nuestra nueva lista: \", Lista)"
      ],
      "execution_count": 1,
      "outputs": [
        {
          "output_type": "stream",
          "name": "stdout",
          "text": [
            "Buenas tardes usuario, a continuación tenemos una lista donde removeremos los números pares: \n",
            "[10, 15, 17, 21, 22, 34, 37, 40, 45, 52, 66, 68, 81, 84, 91, 94, 102, 105, 109].\n",
            "Esta es nuestra nueva lista:  [15, 17, 21, 37, 45, 81, 91, 105, 109]\n"
          ]
        }
      ]
    },
    {
      "cell_type": "markdown",
      "metadata": {
        "id": "ODPtZGdmcv9O"
      },
      "source": [
        "##Ejercicio #2"
      ]
    },
    {
      "cell_type": "code",
      "metadata": {
        "colab": {
          "base_uri": "https://localhost:8080/"
        },
        "id": "JRrc4mMAc1d1",
        "outputId": "86910c5d-68bc-4772-cb97-5f8be84baf14"
      },
      "source": [
        "\"Examen Medio Curso. Ejercicio 2 de programación\"\n",
        "\n",
        "\"Desarrollar un programa que:\" \\\n",
        "\"- Pregunte al usuario por sus 5 películas favoritas (dato tipo string), empezando por la más favorita \" \\\n",
        "\"  y terminando en la posición 5 con la menos favorita.\" \\\n",
        "\"- Almacene estos datos en una lista.\" \\\n",
        "\"- Por último, iterar sobre la lsita generada para imprimir 5 oraciones (1 con cada título)\" \\\n",
        "\"  que digan: 'La película (x) está en la posición [índice+1] de mi top 5.\"\n",
        "\n",
        "user_name = input(\"Buenas noches usuario, ¿Cuál es tu nombre? \")\n",
        "\n",
        "print(\"Hola \", user_name)\n",
        "\n",
        "Lista = []\n",
        "\n",
        "i = 1\n",
        "while i<=5:\n",
        "    peliculas = input(f\"¿Cuál es tu {i}a. película favorita? \")\n",
        "    i+=1\n",
        "    Lista.append(peliculas)\n",
        "\n",
        "j = 1\n",
        "for j in range(0, len(Lista)):\n",
        "    print(f\"La pelicula {Lista[j]} esta en la posicion # {j+1} del top 5.\")"
      ],
      "execution_count": 2,
      "outputs": [
        {
          "output_type": "stream",
          "name": "stdout",
          "text": [
            "Buenas noches usuario, ¿Cuál es tu nombre? Sebastian\n",
            "Hola  Sebastian\n",
            "¿Cuál es tu 1a. película favorita? Bastardos sin Gloria\n",
            "¿Cuál es tu 2a. película favorita? Kung Fu Panda\n",
            "¿Cuál es tu 3a. película favorita? El Infierno\n",
            "¿Cuál es tu 4a. película favorita? The Wolf of Wall Street\n",
            "¿Cuál es tu 5a. película favorita? The Godfather\n",
            "La pelicula Bastardos sin Gloria esta en la posicion # 1 del top 5.\n",
            "La pelicula Kung Fu Panda esta en la posicion # 2 del top 5.\n",
            "La pelicula El Infierno esta en la posicion # 3 del top 5.\n",
            "La pelicula The Wolf of Wall Street esta en la posicion # 4 del top 5.\n",
            "La pelicula The Godfather esta en la posicion # 5 del top 5.\n"
          ]
        }
      ]
    }
  ]
}
